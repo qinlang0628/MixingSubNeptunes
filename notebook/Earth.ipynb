{
 "cells": [
  {
   "cell_type": "markdown",
   "metadata": {},
   "source": [
    "# Simulate Earth's core"
   ]
  },
  {
   "cell_type": "code",
   "execution_count": 1,
   "metadata": {},
   "outputs": [],
   "source": [
    "import sys\n",
    "sys.path.insert(0, '../src')\n",
    "from eostable import *\n",
    "from planet_func import integrate_with_atmos, Planet\n",
    "from utils import guess_history, eos_tables\n",
    "from read_EOS import read_EOS_Si\n",
    "import os, time, pickle\n",
    "import pandas as pd"
   ]
  },
  {
   "cell_type": "code",
   "execution_count": 2,
   "metadata": {},
   "outputs": [],
   "source": [
    "data_folder = \"DirEOS2019\"\n",
    "H_filename = \"TABLE_H_TP_v1\"\n",
    "He_filename = \"TABLE_HE_TP_v1\"\n",
    "HHe_filename = \"TABLEEOS_HHE_TP_Y0.275_v1\"\n",
    "Si_filename = '../EOS_Si.pkl'\n",
    "\n",
    "\n",
    "# read table from folder\n",
    "EOS = eos_tables()\n",
    "EOS_H = pd.read_csv(\"../EOS_tables/EOS_H.csv\")\n",
    "EOS_He = pd.read_csv(\"../EOS_tables/EOS_He.csv\")\n",
    "EOS_HHe = pd.read_csv(\"../EOS_tables/EOS_HHe.csv\")\n",
    "NewEOS = read_EOS_Si(Si_filename)\n",
    "\n",
    "EOS.set_gas_table(EOS_H, EOS_He, EOS_HHe, NewEOS)"
   ]
  },
  {
   "cell_type": "code",
   "execution_count": 3,
   "metadata": {},
   "outputs": [
    {
     "name": "stdout",
     "output_type": "stream",
     "text": [
      "T_EC = 1600.04 K, P_EC = 0.10 GPa\n",
      "M_error / M_core: 9.53%\n",
      "\n",
      "new_R_guess: 3.162 R_E\n",
      "T_EC = 1599.93 K, P_EC = 0.10 GPa\n",
      "M_error / M_core: -4608.94%\n",
      "\n",
      "new_R_guess: 1.778 R_E\n",
      "T_EC = 1600.00 K, P_EC = 0.10 GPa\n",
      "M_error / M_core: -678.97%\n",
      "\n",
      "new_R_guess: 1.334 R_E\n",
      "T_EC = 1600.02 K, P_EC = 0.10 GPa\n",
      "M_error / M_core: -185.65%\n",
      "\n",
      "new_R_guess: 1.155 R_E\n",
      "T_EC = 1600.03 K, P_EC = 0.10 GPa\n",
      "M_error / M_core: -63.79%\n",
      "\n",
      "new_R_guess: 1.075 R_E\n",
      "T_EC = 1600.04 K, P_EC = 0.10 GPa\n",
      "M_error / M_core: -22.15%\n",
      "\n",
      "new_R_guess: 1.037 R_E\n",
      "T_EC = 1600.04 K, P_EC = 0.10 GPa\n",
      "M_error / M_core: -5.21%\n",
      "\n",
      "new_R_guess: 1.018 R_E\n",
      "T_EC = 1600.04 K, P_EC = 0.10 GPa\n",
      "M_error / M_core: 2.34%\n",
      "\n",
      "new_R_guess: 1.027 R_E\n",
      "T_EC = 1600.04 K, P_EC = 0.10 GPa\n",
      "M_error / M_core: -1.36%\n",
      "\n",
      "new_R_guess: 1.023 R_E\n",
      "T_EC = 1600.04 K, P_EC = 0.10 GPa\n",
      "M_error / M_core: 0.50%\n"
     ]
    }
   ],
   "source": [
    "##### test case\n",
    "M_core=6e24 * 1\n",
    "f=0           # mass fraction of dissolved gas\n",
    "f_He=0        # mass fraction of Helium for the gas\n",
    "f_M=0.325     # mass fraction of metal for the core\n",
    "\n",
    "R_guess =  6371000  # initial guess for the radius (unit in m)\n",
    "dr_coeff = 0.005          # precision of each step during the integration\n",
    "\n",
    "T_eff=1600              # temperature at the core-envelope boundary (unit in K)\n",
    "P_eff = 1e8             # pressure at the core-envelope boundary (unit in Pa)\n",
    "\n",
    "X = 0\n",
    "X_He = 0\n",
    "\n",
    "new_planet = Planet(M_core, f_M, X, X_He)\n",
    "new_planet.set_f_fHe(f, f_He)\n",
    "setattr(new_planet, \"P_eff\", P_eff)\n",
    "setattr(new_planet, \"T_eff\", T_eff)\n",
    "\n",
    "R_guess_history = guess_history()\n",
    "R_guess_max = None\n",
    "R_guess_min = None\n",
    "\n",
    "results = integrate_with_atmos(new_planet, R_guess, dr_coeff, EOS, \n",
    "                               R_guess_history, R_guess_max, R_guess_min, \n",
    "                               fugacity=False)"
   ]
  },
  {
   "cell_type": "code",
   "execution_count": null,
   "metadata": {},
   "outputs": [],
   "source": []
  }
 ],
 "metadata": {
  "kernelspec": {
   "display_name": "Python 3",
   "language": "python",
   "name": "python3"
  },
  "language_info": {
   "codemirror_mode": {
    "name": "ipython",
    "version": 3
   },
   "file_extension": ".py",
   "mimetype": "text/x-python",
   "name": "python",
   "nbconvert_exporter": "python",
   "pygments_lexer": "ipython3",
   "version": "3.7.6"
  }
 },
 "nbformat": 4,
 "nbformat_minor": 4
}
