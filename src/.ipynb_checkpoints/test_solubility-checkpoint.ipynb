{
 "cells": [
  {
   "cell_type": "markdown",
   "metadata": {},
   "source": [
    "# Calculate fugacity and solubility at different temperature and pressure"
   ]
  },
  {
   "cell_type": "code",
   "execution_count": 6,
   "metadata": {},
   "outputs": [],
   "source": [
    "from formula import *\n",
    "import matplotlib.pyplot as plt\n",
    "\n",
    "EOS_H = pd.read_csv(\"../EOS_tables/EOS_H.csv\")\n",
    "EOS_He = pd.read_csv(\"../EOS_tables/EOS_He.csv\")\n",
    "EOS_HHe = pd.read_csv(\"../EOS_tables/EOS_HHe.csv\")"
   ]
  },
  {
   "cell_type": "code",
   "execution_count": 11,
   "metadata": {},
   "outputs": [
    {
     "name": "stdout",
     "output_type": "stream",
     "text": [
      "2.0752834939673606 (0.0014419785942656627, 1)\n"
     ]
    }
   ],
   "source": [
    "T_b = 1500    # tempunit in K\n",
    "P_b = 1e9     # unit in Pa\n",
    "phi = calc_fugacity_coeff(T_b, P_b, EOS_He, gas=\"He\")                     # 2.0752834939673606\n",
    "f = calc_gas_solubility(P_b, T_b, EOS_H, EOS_He, gas='He')                # (0.0014419785942656627, 1)\n"
   ]
  },
  {
   "cell_type": "code",
   "execution_count": 15,
   "metadata": {},
   "outputs": [
    {
     "name": "stdout",
     "output_type": "stream",
     "text": [
      "fucacity is 2.0752834939673606\n",
      "solubility is 0.0014419785942656627 and Helium fraction in dissolved gas is 1\n"
     ]
    }
   ],
   "source": [
    "print(\"fucacity is\", phi)\n",
    "print(\"solubility is\", f[0], \"and Helium fraction in dissolved gas is\", f[1])"
   ]
  },
  {
   "cell_type": "code",
   "execution_count": null,
   "metadata": {},
   "outputs": [],
   "source": []
  }
 ],
 "metadata": {
  "kernelspec": {
   "display_name": "Python 3",
   "language": "python",
   "name": "python3"
  },
  "language_info": {
   "codemirror_mode": {
    "name": "ipython",
    "version": 3
   },
   "file_extension": ".py",
   "mimetype": "text/x-python",
   "name": "python",
   "nbconvert_exporter": "python",
   "pygments_lexer": "ipython3",
   "version": "3.7.6"
  }
 },
 "nbformat": 4,
 "nbformat_minor": 4
}
